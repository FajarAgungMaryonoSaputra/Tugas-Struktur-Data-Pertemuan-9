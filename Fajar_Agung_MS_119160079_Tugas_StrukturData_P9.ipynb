{
  "nbformat": 4,
  "nbformat_minor": 0,
  "metadata": {
    "colab": {
      "provenance": []
    },
    "kernelspec": {
      "name": "python3",
      "display_name": "Python 3"
    },
    "language_info": {
      "name": "python"
    }
  },
  "cells": [
    {
      "cell_type": "markdown",
      "source": [],
      "metadata": {
        "id": "qZgajXKKtjzM"
      }
    },
    {
      "cell_type": "markdown",
      "source": [
        "Fajar Agung Maryono Saputra\n",
        "\n",
        "119160079\n",
        "\n",
        "Tugas Struktur Data (Exercise 9)\n"
      ],
      "metadata": {
        "id": "pvIsc2YDtl9e"
      }
    },
    {
      "cell_type": "markdown",
      "source": [
        "### **Introduction Section**\n",
        "\n",
        "1. Jelaskan definisi object dalam Paradigma Object-Oriented!\n",
        "2. Jelaskan tiga tujuan dalam Paradigma Object-Oriented!\n",
        "3. Jelaskan tiga prinsip dalam Paradigma Object-Oriented!\n",
        "4. Sebutkan contoh design pattern dalam Paradigma Object-Oriented!\n",
        "\n",
        "Jawaban\n",
        "1. Dalam pemrograman berorientasi objek (OOP), objek merupakan suatu hal yang dipikirkan pertama kali dalam merancang sebuah program dan juga merupakan unit kode yang pada akhirnya diturunkan dari proses. Di antaranya, setiap objek dibuat menjadi kelas objek generik, dan bahkan lebih banyak kelas generik didefinisikan sehingga objek dapat berbagi model dan menggunakan kembali definisi kelas dalam kodenya. Setiap objek adalah turunan dari kelas atau subkelas tertentu dengan metode atau prosedur dan variabel data kelas itu sendiri. Objek adalah apa yang sebenarnya berjalan di komputer.\n",
        "\n",
        "2.  Penggunaan kembali kode melalui warisan, Modularitas untuk pemecahan masalah yang lebih mudah, Fleksibilitas melalui polimorfisme, Pemecahan masalah yang efektif.\n",
        "\n",
        "3. Abstraction (Abstraksi), Inharitance (Penurunan sifat), Encapsulation, Polymorphism\n",
        "\n",
        "4. Creational Patterns, Structural Patterns, Behavioral Patterns, J2EE Patterns"
      ],
      "metadata": {
        "id": "saZBzIy1vpVf"
      }
    },
    {
      "cell_type": "markdown",
      "source": [
        "### **Class and Object**\n",
        "1. Jelaskan definisi Class!\n",
        "2. Jelaskan perbedaan Attribute dengan Method!\n",
        "3. Jelaskan apa itu instansiasi Object!\n",
        "4. Jelaskan apa itu identifier!\n",
        "\n",
        "Jawaban\n",
        "\n",
        "1. Class adalah cetak biru atau blueprint dari object. Class digunakan hanya untuk membuat kerangka dasar. Yang akan kita pakai nanti adalah hasil cetakan dari class, yakni object\n",
        "2. Attribute merupakan karakteristik dari suatu class. Attribut ini berupa suatu variable yang terletak tepat di dalam class. Sementara Method merupakan fungsi yang merupakan kepemilikan dari objek tersebut.\n",
        "3. Instance objek adalah kejadian atau fungsi spesifik dari suatu objek.\n",
        "4. Object Identifier adalah nama jangka panjang yang tidak ambigu untuk semua jenis objek atau entitas"
      ],
      "metadata": {
        "id": "9PhHq0uxxU6h"
      }
    },
    {
      "cell_type": "markdown",
      "source": [
        "### **Implementing Class**\n",
        "Implementasikan kelas diagram \"Kendaraan\" berikut ke dalam Python!\n",
        "\n",
        "Class Kendaraan :\n",
        "\n",
        "- string nomorPlat\n",
        "- string merk\n",
        "- string jenis\n",
        "- string warna\n",
        "- int tanggalBeli\n",
        "- int bulanBeli\n",
        "- int tahunBeli\n",
        "- double berat\n",
        "- double harga\n",
        "- showTanggalPembelian()"
      ],
      "metadata": {
        "id": "PZFRBDeszhm7"
      }
    },
    {
      "cell_type": "code",
      "source": [
        "class kendaraan:\n",
        "        def __init__(self,nomorplat, jenis, warna, merk, tanggalbeli, bulanbeli, tahunbeli, harga, berat):\n",
        "            self.nomorplat=nomorplat\n",
        "            self.jenis=jenis\n",
        "            self.warna=warna\n",
        "            self.merk=merk\n",
        "            self.tanggalbeli=tanggalbeli\n",
        "            self.bulanbeli=bulanbeli\n",
        "            self.tahunbeli=tahunbeli\n",
        "            self.harga=harga\n",
        "            self.berat=berat\n",
        "        def show_tanggal_pembelian(self):\n",
        "            print(f\"{self.nomorplat}, {self.merk}, {self.jenis}, {self.warna},{self.tanggalbeli}/{self.bulanbeli}/{self.tahunbeli}, 'harga:Rp{self.harga}', 'Berat:{self.berat}KG'\")\n",
        "Beli = kendaraan(\"BE 1234 GG\", \"KAWASAKI ZX25R\", \"hiJAU\", \"SPORT\", 31, 12, 2022,120000000 , 207 )\n",
        "Beli.show_tanggal_pembelian()"
      ],
      "metadata": {
        "colab": {
          "base_uri": "https://localhost:8080/"
        },
        "id": "8Uzq2sc5uJT3",
        "outputId": "20531389-2519-438f-8a8b-30d52d1dea95"
      },
      "execution_count": 10,
      "outputs": [
        {
          "output_type": "stream",
          "name": "stdout",
          "text": [
            "BE 1234 GG, SPORT, KAWASAKI ZX25R, hiJAU,31/12/2022, 'harga:Rp120000000', 'Berat:207KG'\n"
          ]
        }
      ]
    },
    {
      "cell_type": "markdown",
      "source": [
        "### **Main OOP Concept**\n",
        "\n",
        "1. Jelaskan konsep encapsulation dalam Paradigma Object-Oriented!\n",
        "2. Jelaskan konsep inheritance dalam Paradigma Object-Oriented!\n",
        "3. Jelaskan perbedaan public method dan private method dalam encapsulation!\n",
        "4. Jelaskan perbedaan superclass dan subclass dalam inheritance!\n",
        "\n",
        "Jawaban :\n",
        "\n",
        "1. Dalam bahasa pemrograman komputer berorientasi objek (OOP), gagasan enkapsulasi (atau Enkapsulasi OOP) mengacu pada bundling data, bersama dengan metode / fungsi yang beroperasi pada data itu, menjadi satu unit.\n",
        "\n",
        "2. Inheritance merupakan konsep penurunan sifat dalam fungsi class dan method, kelas turunan akan selalu memiliki sifat dan perilaku yang sama dengan kelas induknya: mulai dari atribut sampai fungsi-fungsinya.\n",
        "\n",
        "3. Public method dapat diakses dari mana saja, sedangkan Private method hanya dapat diakses dari objek itu sendiri\n",
        "\n",
        "4. Superclass adalah kelas yang ada dari mana kelas baru diturunkan sedangkan Subclass adalah kelas baru yang mewarisi properti dan metode Superclass."
      ],
      "metadata": {
        "id": "j1Rwwu_72KOd"
      }
    },
    {
      "cell_type": "markdown",
      "source": [
        "### **Programming Exercise**\n",
        "Buatlah class diagram dari code python berikut ini:\n",
        "\n",
        "\n",
        "![image.png](data:image/png;base64,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)\n",
        "\n",
        "Implementasikan class diagram berikut menjadi program python!\n",
        "classDiagram class Koordinat{ int x int y int z setx() sety() setz() } class Vector{ Koordinat koordinat setKoordinat() getKoordinat() norm() }\n",
        "\n",
        "\n",
        "- fungsi norm() adalah fungsi untuk menghitung norm dari sebuah vector yaitu\n",
        "norm = $\\sqrt{x^2 + y^2 + z^2}$ . Buatlah fungsi untuk menghitung norm dari vector berdasarkan class yang telah anda buat! \n",
        "\n",
        "- Euclidian Distance adalah jarak antara 2 vector dan didefinisikan sebagai \n",
        "$$d = \\sqrt{ (x_1 - x_2)^2 + (y_1 - y_2)^2 + (z_1 - z_2)^2 } $$\n",
        "buatlah program untuk menghitung euclidian distance antara 2 vector berdasarkan class yang telah anda buat!\n",
        "\n",
        "- Perhatikan tabel berikut\n",
        "\n",
        "| Vector | x   | y   | z   | kelas |\n",
        "| ------ | --- | --- | --- | ----- |\n",
        "| A      | 0   | 1   | 1   | 0     |\n",
        "| B      | 2   | 2   | 2   | 1     |\n",
        "| C      | 1.5 | 1.2 | 1.5 | 1     |\n",
        "| D      | 10  | 9   | 8   | 0     |\n",
        "| E      | 5   | 5   | 5   | 0     |\n",
        "| F      | 8   | 8   | 8   | 0     |\n",
        "| G      | 6   | 6   | 1   | 0     |\n",
        "| H      | 3   | 3   | 3   | ?     |\n",
        "\n",
        "Salah satu metode dalam data science untuk melakukan klasifikasi adalah dengan menggunakan k-nearest neighbor, dimana cara menentukan label kelas adalah dengan cara melihat tetangga dengan euclidian distance terdekat. Tentukan kelas dari vector H dengan cara:\n",
        "- Tentukan 3 tetangga paling dekat dari H \n",
        "- dari 3 tetangga tersebut, pilih kelas yang paling banyak muncul\n",
        "- Jadikan kelas yang paling banyak muncul tersebut sebagai kelas dari vector H\n",
        "\n",
        "Implementasikan algoritma tersebut menggunakan program python dengan paradigma object-oriented programming yang telah anda pelajari!\n"
      ],
      "metadata": {
        "id": "5yb-GMsh2zpI"
      }
    },
    {
      "cell_type": "code",
      "source": [
        "from math import sqrt\n",
        "import statistics\n",
        "class Vektor:\n",
        "  def __init__(self, vektor, x, y, z, NamaVektor):\n",
        "    self.vektor = vektor\n",
        "    self.x = x\n",
        "    self.y = y\n",
        "    self.z = z\n",
        "    self.NamaVektor = NamaVektor\n",
        "    self.KelasH = 0\n",
        "  def Panjang(self):\n",
        "    vktr = []\n",
        "    Panjang = []\n",
        "    # Panjang tetangga\n",
        "    for i in self.vektor:\n",
        "        komponen_vektor = list(self.vektor[i].values())\n",
        "        def dekat(komponen_vektor):\n",
        "            DistanceJarak = 0\n",
        "            for i in komponen_vektor:\n",
        "                DistanceJarak = sqrt((self.x-komponen_vektor[1])**2 + (self.y-komponen_vektor[2])**2 + (self.z-komponen_vektor[3])**2)\n",
        "            return DistanceJarak\n",
        "        vktr = vktr + [self.vektor[i]]\n",
        "        Panjang = Panjang + [round(dekat(komponen_vektor), 2)]\n",
        "        print(f\"Panjang vektor {self.vektor[i]['vektor']} dengan vektor H adalah sebesar {round(dekat(komponen_vektor), 2)}\")\n",
        "    Nilai_Sortir = sorted(Panjang)\n",
        "    ttngg = {}\n",
        "    for i in range(len(Panjang)):\n",
        "        ttngg[Panjang[i]] = vktr[i]    \n",
        "    print(\"Urutannya adalah:\")\n",
        "    for j in range(len(Nilai_Sortir)): \n",
        "        print(f\"Panjang vektor {ttngg[Nilai_Sortir[j]]['vektor']} dengan vektor H adalah sebesar {Nilai_Sortir[j]}\")\n",
        "    print(\"3 Tetangga terdekat:\")\n",
        "    kelas = []\n",
        "    for k in range(3):\n",
        "        print(f\"Vektor {ttngg[Nilai_Sortir[k]]['vektor']} dengan kelas {ttngg[Nilai_Sortir[k]]['kelas']} pada Panjang {Nilai_Sortir[k]} dengan vektor H\")\n",
        "        kelas = kelas + [ttngg[Nilai_Sortir[k]]['kelas']]\n",
        "    self.KelasH = statistics.mode(kelas)\n",
        "    print(\"Kelas yang paling banyak muncul adalah = \", self.KelasH)\n",
        "    print(\"Kelas dari vektor H = \", self.KelasH)\n",
        "  def hasil(self):\n",
        "    return {'vektor': self.NamaVektor, 'x' : self.x, 'y' : self.y, 'z': self.z, 'kelas': self.KelasH}"
      ],
      "metadata": {
        "id": "5e7sS3tVuQ6o"
      },
      "execution_count": 11,
      "outputs": []
    },
    {
      "cell_type": "code",
      "source": [
        "def hasil(self):\n",
        "    return {'vektor': self.NamaVektor, 'x' : self.x, 'y' : self.y, 'z': self.z, 'kelas': self.KelasH}\n",
        "TableOfVevtor = {\n",
        "    \"vektor1\" : {'vektor': 'A', 'x' : 0, 'y' : 1, 'z': 1, 'kelas': 0 },\n",
        "    \"vektor2\" : {'vektor': 'B', 'x' : 2, 'y' : 2, 'z': 2, 'kelas': 1},\n",
        "    \"vektor3\" : {'vektor': 'C', 'x' : 1.5, 'y' : 1.2, 'z': 1, 'kelas': 1},\n",
        "    \"vektor4\" : {'vektor': 'D', 'x' : 10, 'y' : 9, 'z': 0, 'kelas': 0},\n",
        "    \"vektor5\" : {'vektor': 'E', 'x' : 5, 'y' : 5, 'z': 5, 'kelas': 0},\n",
        "    \"vektor6\" : {'vektor': 'F', 'x' : 8, 'y' : 8, 'z': 0, 'kelas': 0},\n",
        "    \"vektor7\" : {'vektor': 'G', 'x' : 6, 'y' : 6, 'z': 0, 'kelas': 0},\n",
        "}\n",
        "for KeyOfVector in TableOfVevtor:\n",
        "    print(TableOfVevtor[KeyOfVector])\n",
        "print(\"\\n\")\n",
        "data = Vektor(TableOfVevtor, 3, 3, 3, \"H\")\n",
        "data.Panjang()\n",
        "print(data.hasil())\n",
        "TableOfVevtor[\"vektor8\"] = data.hasil()\n",
        "print(\"\\n\")\n",
        "for KeyOfVector in TableOfVevtor:\n",
        "    print(TableOfVevtor[KeyOfVector])"
      ],
      "metadata": {
        "colab": {
          "base_uri": "https://localhost:8080/"
        },
        "id": "OxILkKB-udFn",
        "outputId": "e5ec9c68-54c7-455c-c476-3929359ff483"
      },
      "execution_count": 12,
      "outputs": [
        {
          "output_type": "stream",
          "name": "stdout",
          "text": [
            "{'vektor': 'A', 'x': 0, 'y': 1, 'z': 1, 'kelas': 0}\n",
            "{'vektor': 'B', 'x': 2, 'y': 2, 'z': 2, 'kelas': 1}\n",
            "{'vektor': 'C', 'x': 1.5, 'y': 1.2, 'z': 1, 'kelas': 1}\n",
            "{'vektor': 'D', 'x': 10, 'y': 9, 'z': 0, 'kelas': 0}\n",
            "{'vektor': 'E', 'x': 5, 'y': 5, 'z': 5, 'kelas': 0}\n",
            "{'vektor': 'F', 'x': 8, 'y': 8, 'z': 0, 'kelas': 0}\n",
            "{'vektor': 'G', 'x': 6, 'y': 6, 'z': 0, 'kelas': 0}\n",
            "\n",
            "\n",
            "Panjang vektor A dengan vektor H adalah sebesar 4.12\n",
            "Panjang vektor B dengan vektor H adalah sebesar 1.73\n",
            "Panjang vektor C dengan vektor H adalah sebesar 3.08\n",
            "Panjang vektor D dengan vektor H adalah sebesar 9.7\n",
            "Panjang vektor E dengan vektor H adalah sebesar 3.46\n",
            "Panjang vektor F dengan vektor H adalah sebesar 7.68\n",
            "Panjang vektor G dengan vektor H adalah sebesar 5.2\n",
            "Urutannya adalah:\n",
            "Panjang vektor B dengan vektor H adalah sebesar 1.73\n",
            "Panjang vektor C dengan vektor H adalah sebesar 3.08\n",
            "Panjang vektor E dengan vektor H adalah sebesar 3.46\n",
            "Panjang vektor A dengan vektor H adalah sebesar 4.12\n",
            "Panjang vektor G dengan vektor H adalah sebesar 5.2\n",
            "Panjang vektor F dengan vektor H adalah sebesar 7.68\n",
            "Panjang vektor D dengan vektor H adalah sebesar 9.7\n",
            "3 Tetangga terdekat:\n",
            "Vektor B dengan kelas 1 pada Panjang 1.73 dengan vektor H\n",
            "Vektor C dengan kelas 1 pada Panjang 3.08 dengan vektor H\n",
            "Vektor E dengan kelas 0 pada Panjang 3.46 dengan vektor H\n",
            "Kelas yang paling banyak muncul adalah =  1\n",
            "Kelas dari vektor H =  1\n",
            "{'vektor': 'H', 'x': 3, 'y': 3, 'z': 3, 'kelas': 1}\n",
            "\n",
            "\n",
            "{'vektor': 'A', 'x': 0, 'y': 1, 'z': 1, 'kelas': 0}\n",
            "{'vektor': 'B', 'x': 2, 'y': 2, 'z': 2, 'kelas': 1}\n",
            "{'vektor': 'C', 'x': 1.5, 'y': 1.2, 'z': 1, 'kelas': 1}\n",
            "{'vektor': 'D', 'x': 10, 'y': 9, 'z': 0, 'kelas': 0}\n",
            "{'vektor': 'E', 'x': 5, 'y': 5, 'z': 5, 'kelas': 0}\n",
            "{'vektor': 'F', 'x': 8, 'y': 8, 'z': 0, 'kelas': 0}\n",
            "{'vektor': 'G', 'x': 6, 'y': 6, 'z': 0, 'kelas': 0}\n",
            "{'vektor': 'H', 'x': 3, 'y': 3, 'z': 3, 'kelas': 1}\n"
          ]
        }
      ]
    }
  ]
}